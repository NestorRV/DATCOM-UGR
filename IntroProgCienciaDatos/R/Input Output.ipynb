{
 "cells": [
  {
   "cell_type": "markdown",
   "metadata": {},
   "source": [
    "#### Alumno: Néstor Rodríguez Vico"
   ]
  },
  {
   "cell_type": "markdown",
   "metadata": {},
   "source": [
    "# Input / Output"
   ]
  },
  {
   "cell_type": "markdown",
   "metadata": {},
   "source": [
    "#### Pide al usuario que introduzca un string s y un número n y que muestre en pantalla n veces seguidas el string s (sin espacios entre palabra y palabra)."
   ]
  },
  {
   "cell_type": "code",
   "execution_count": 105,
   "metadata": {
    "scrolled": true
   },
   "outputs": [
    {
     "name": "stdout",
     "output_type": "stream",
     "text": [
      "Entra un string: Nestor\n",
      "Entra un numero: 5\n"
     ]
    },
    {
     "data": {
      "text/html": [
       "<ol class=list-inline>\n",
       "\t<li>'Nestor'</li>\n",
       "\t<li>'Nestor'</li>\n",
       "\t<li>'Nestor'</li>\n",
       "\t<li>'Nestor'</li>\n",
       "\t<li>'Nestor'</li>\n",
       "</ol>\n"
      ],
      "text/latex": [
       "\\begin{enumerate*}\n",
       "\\item 'Nestor'\n",
       "\\item 'Nestor'\n",
       "\\item 'Nestor'\n",
       "\\item 'Nestor'\n",
       "\\item 'Nestor'\n",
       "\\end{enumerate*}\n"
      ],
      "text/markdown": [
       "1. 'Nestor'\n",
       "2. 'Nestor'\n",
       "3. 'Nestor'\n",
       "4. 'Nestor'\n",
       "5. 'Nestor'\n",
       "\n",
       "\n"
      ],
      "text/plain": [
       "[1] \"Nestor\" \"Nestor\" \"Nestor\" \"Nestor\" \"Nestor\""
      ]
     },
     "metadata": {},
     "output_type": "display_data"
    }
   ],
   "source": [
    "s <- readline(prompt=\"Entra un string: \")\n",
    "n <- readline(prompt=\"Entra un numero: \")\n",
    "\n",
    "rep(s, n)"
   ]
  },
  {
   "cell_type": "markdown",
   "metadata": {},
   "source": [
    "#### Crea tres ficheros llamados dos.txt, tres.txt y cinco.txt que contenga la tabla del 2, la del 3 y la del 5 respectivamente (los primeros 10 valores de cada tabla, un número en cada línea de cada fichero)."
   ]
  },
  {
   "cell_type": "code",
   "execution_count": 96,
   "metadata": {},
   "outputs": [],
   "source": [
    "dos <- c(2, 4, 6, 8, 10, 12, 14, 16, 18, 20)\n",
    "tres <- c(3, 6, 9, 12, 15, 18, 21, 24, 27, 30)\n",
    "cinco <- c(5, 50, 15, 20, 25, 30, 35, 40, 45, 50)\n",
    "\n",
    "\n",
    "write.table(dos, \"dos.txt\", row.names=FALSE, col.names=FALSE)\n",
    "write.table(tres, \"tres.txt\", row.names=FALSE, col.names=FALSE)\n",
    "write.table(cinco, \"cinco.txt\", row.names=FALSE, col.names=FALSE)"
   ]
  },
  {
   "cell_type": "markdown",
   "metadata": {},
   "source": [
    "#### Carga los tres ficheros creados en el punto anterior y construye una matriz que, en cada columna, tengo el contenido de cada fichero."
   ]
  },
  {
   "cell_type": "code",
   "execution_count": 100,
   "metadata": {
    "scrolled": true
   },
   "outputs": [
    {
     "data": {
      "text/html": [
       "<table>\n",
       "<thead><tr><th scope=col>V1</th><th scope=col>V1</th><th scope=col>V1</th></tr></thead>\n",
       "<tbody>\n",
       "\t<tr><td> 2</td><td> 3</td><td> 5</td></tr>\n",
       "\t<tr><td> 4</td><td> 6</td><td>50</td></tr>\n",
       "\t<tr><td> 6</td><td> 9</td><td>15</td></tr>\n",
       "\t<tr><td> 8</td><td>12</td><td>20</td></tr>\n",
       "\t<tr><td>10</td><td>15</td><td>25</td></tr>\n",
       "\t<tr><td>12</td><td>18</td><td>30</td></tr>\n",
       "\t<tr><td>14</td><td>21</td><td>35</td></tr>\n",
       "\t<tr><td>16</td><td>24</td><td>40</td></tr>\n",
       "\t<tr><td>18</td><td>27</td><td>45</td></tr>\n",
       "\t<tr><td>20</td><td>30</td><td>50</td></tr>\n",
       "</tbody>\n",
       "</table>\n"
      ],
      "text/latex": [
       "\\begin{tabular}{r|lll}\n",
       " V1 & V1 & V1\\\\\n",
       "\\hline\n",
       "\t  2 &  3 &  5\\\\\n",
       "\t  4 &  6 & 50\\\\\n",
       "\t  6 &  9 & 15\\\\\n",
       "\t  8 & 12 & 20\\\\\n",
       "\t 10 & 15 & 25\\\\\n",
       "\t 12 & 18 & 30\\\\\n",
       "\t 14 & 21 & 35\\\\\n",
       "\t 16 & 24 & 40\\\\\n",
       "\t 18 & 27 & 45\\\\\n",
       "\t 20 & 30 & 50\\\\\n",
       "\\end{tabular}\n"
      ],
      "text/markdown": [
       "\n",
       "V1 | V1 | V1 | \n",
       "|---|---|---|---|---|---|---|---|---|---|\n",
       "|  2 |  3 |  5 | \n",
       "|  4 |  6 | 50 | \n",
       "|  6 |  9 | 15 | \n",
       "|  8 | 12 | 20 | \n",
       "| 10 | 15 | 25 | \n",
       "| 12 | 18 | 30 | \n",
       "| 14 | 21 | 35 | \n",
       "| 16 | 24 | 40 | \n",
       "| 18 | 27 | 45 | \n",
       "| 20 | 30 | 50 | \n",
       "\n",
       "\n"
      ],
      "text/plain": [
       "   V1 V1 V1\n",
       "1   2  3  5\n",
       "2   4  6 50\n",
       "3   6  9 15\n",
       "4   8 12 20\n",
       "5  10 15 25\n",
       "6  12 18 30\n",
       "7  14 21 35\n",
       "8  16 24 40\n",
       "9  18 27 45\n",
       "10 20 30 50"
      ]
     },
     "metadata": {},
     "output_type": "display_data"
    }
   ],
   "source": [
    "dos <- read.table(\"dos.txt\")\n",
    "tres <- read.table(\"tres.txt\")\n",
    "cinco <- read.table(\"cinco.txt\")\n",
    "m <- cbind(dos, tres, cinco)\n",
    "m"
   ]
  },
  {
   "cell_type": "markdown",
   "metadata": {},
   "source": [
    "#### Escribe las cinco primera filas de matriz del ejercicio anterior en un fichero nuevo llamado prime.txt y las cinco últimas en otro fichero llamado fin.txt. Ambos ficheros deben tener los datos separados por comas."
   ]
  },
  {
   "cell_type": "code",
   "execution_count": 104,
   "metadata": {},
   "outputs": [],
   "source": [
    "write.table(head(m, 5), \"prime.txt\", row.names = FALSE, \n",
    "            col.names = FALSE, sep = \",\")\n",
    "write.table(tail(m, 5), \"fin.txt\", row.names = FALSE, \n",
    "            col.names = FALSE, sep = \",\")"
   ]
  },
  {
   "cell_type": "markdown",
   "metadata": {},
   "source": [
    "#### Dados dos números introducidos por el usuario f y c, crea un cuadrado de f filas y c columnas con el caracter \"x\". Un ejemplo con f=4 y c=3 sería:\n",
    "xxx\n",
    "xxx\n",
    "xxx\n",
    "xxx"
   ]
  },
  {
   "cell_type": "code",
   "execution_count": 135,
   "metadata": {
    "scrolled": true
   },
   "outputs": [
    {
     "name": "stdout",
     "output_type": "stream",
     "text": [
      "Introduzca el numero de filas: 2\n",
      "Introduzca el numero de columnas: 4\n",
      "xxxx\n",
      "xxxx"
     ]
    }
   ],
   "source": [
    "f <- readline(prompt=\"Introduzca el numero de filas: \")\n",
    "c <- readline(prompt=\"Introduzca el numero de columnas: \")\n",
    "\n",
    "row <- paste(rep(\"x\", c), collapse = \"\")\n",
    "cat(paste(replicate(f, row), collapse = \"\\n\"))"
   ]
  }
 ],
 "metadata": {
  "kernelspec": {
   "display_name": "R",
   "language": "R",
   "name": "ir"
  },
  "language_info": {
   "codemirror_mode": "r",
   "file_extension": ".r",
   "mimetype": "text/x-r-source",
   "name": "R",
   "pygments_lexer": "r",
   "version": "3.5.1"
  }
 },
 "nbformat": 4,
 "nbformat_minor": 2
}
