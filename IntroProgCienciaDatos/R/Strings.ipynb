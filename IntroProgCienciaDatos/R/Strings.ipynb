{
 "cells": [
  {
   "cell_type": "markdown",
   "metadata": {},
   "source": [
    "#### Alumno: Néstor Rodríguez Vico"
   ]
  },
  {
   "cell_type": "markdown",
   "metadata": {},
   "source": [
    "# String Manipulation"
   ]
  },
  {
   "cell_type": "markdown",
   "metadata": {},
   "source": [
    "#### Crea un vector de strings que contengan 3 datos: tu primer nombre y tus dos apellidos. A partir de éste crea un nuevo string con la inicial de tu nombre (y un punto) y el apellido completo utilizando las utilidades de R. En mi caso debería quedar: R. Romero Zaliz."
   ]
  },
  {
   "cell_type": "code",
   "execution_count": 3,
   "metadata": {},
   "outputs": [
    {
     "data": {
      "text/html": [
       "<ol class=list-inline>\n",
       "\t<li>'Nestor'</li>\n",
       "\t<li>'Rodriguez'</li>\n",
       "\t<li>'Vico'</li>\n",
       "</ol>\n"
      ],
      "text/latex": [
       "\\begin{enumerate*}\n",
       "\\item 'Nestor'\n",
       "\\item 'Rodriguez'\n",
       "\\item 'Vico'\n",
       "\\end{enumerate*}\n"
      ],
      "text/markdown": [
       "1. 'Nestor'\n",
       "2. 'Rodriguez'\n",
       "3. 'Vico'\n",
       "\n",
       "\n"
      ],
      "text/plain": [
       "[1] \"Nestor\"    \"Rodriguez\" \"Vico\"     "
      ]
     },
     "metadata": {},
     "output_type": "display_data"
    }
   ],
   "source": [
    "full_name <- c(\"Nestor\", \"Rodriguez\", \"Vico\")"
   ]
  },
  {
   "cell_type": "code",
   "execution_count": 12,
   "metadata": {},
   "outputs": [
    {
     "data": {
      "text/html": [
       "'N. Rodriguez Vico'"
      ],
      "text/latex": [
       "'N. Rodriguez Vico'"
      ],
      "text/markdown": [
       "'N. Rodriguez Vico'"
      ],
      "text/plain": [
       "[1] \"N. Rodriguez Vico\""
      ]
     },
     "metadata": {},
     "output_type": "display_data"
    }
   ],
   "source": [
    "paste(paste(substr(full_name[1], 0, 1), \".\", sep = \"\"), \n",
    "      full_name[2], full_name[3])"
   ]
  },
  {
   "cell_type": "markdown",
   "metadata": {},
   "source": [
    "#### Dado un vector de fechas, expresadas como strings (e.g., “2005-11-28”), muestra solamente aquellas correspondientes a los meses impares."
   ]
  },
  {
   "cell_type": "code",
   "execution_count": 56,
   "metadata": {},
   "outputs": [
    {
     "data": {
      "text/html": [
       "<ol class=list-inline>\n",
       "\t<li>'2005-11-28'</li>\n",
       "\t<li>'2007-07-16'</li>\n",
       "</ol>\n"
      ],
      "text/latex": [
       "\\begin{enumerate*}\n",
       "\\item '2005-11-28'\n",
       "\\item '2007-07-16'\n",
       "\\end{enumerate*}\n"
      ],
      "text/markdown": [
       "1. '2005-11-28'\n",
       "2. '2007-07-16'\n",
       "\n",
       "\n"
      ],
      "text/plain": [
       "[1] \"2005-11-28\" \"2007-07-16\""
      ]
     },
     "metadata": {},
     "output_type": "display_data"
    }
   ],
   "source": [
    "dates <- c(\"2005-11-28\", \"2005-08-28\", \"2007-07-16\")\n",
    "grep(\"[0-9]{4}-(0[1,3,5,7,9]|11)-[0-9]{2}\", dates, value = TRUE)"
   ]
  },
  {
   "cell_type": "markdown",
   "metadata": {},
   "source": [
    "#### Dado un string con varias palabras (e.g., “Esta es una frase, pero no cualquier frase.”) crea un vector con cada una de las plabras del string ([\"Esta\",\"es\",\"una\",\"frase\",\"pero\",\"no\",\"cualquier\",\"frase\"])."
   ]
  },
  {
   "cell_type": "code",
   "execution_count": 74,
   "metadata": {},
   "outputs": [
    {
     "data": {
      "text/html": [
       "<ol>\n",
       "\t<li>'Esta es una frase, pero no cualquier frase.'</li>\n",
       "</ol>\n"
      ],
      "text/latex": [
       "\\begin{enumerate}\n",
       "\\item 'Esta es una frase, pero no cualquier frase.'\n",
       "\\end{enumerate}\n"
      ],
      "text/markdown": [
       "1. 'Esta es una frase, pero no cualquier frase.'\n",
       "\n",
       "\n"
      ],
      "text/plain": [
       "[[1]]\n",
       "[1] \"Esta es una frase, pero no cualquier frase.\"\n"
      ]
     },
     "metadata": {},
     "output_type": "display_data"
    }
   ],
   "source": [
    "strsplit(\"Esta es una frase, pero no cualquier frase.\", split=\" \")"
   ]
  },
  {
   "cell_type": "markdown",
   "metadata": {},
   "source": [
    "#### Busca las plabras que usan solamente las vocales “a” y “e” en un vector de strings."
   ]
  },
  {
   "cell_type": "code",
   "execution_count": 86,
   "metadata": {},
   "outputs": [
    {
     "data": {
      "text/html": [
       "<ol class=list-inline>\n",
       "\t<li>'casa'</li>\n",
       "\t<li>'trece'</li>\n",
       "\t<li>'errata'</li>\n",
       "</ol>\n"
      ],
      "text/latex": [
       "\\begin{enumerate*}\n",
       "\\item 'casa'\n",
       "\\item 'trece'\n",
       "\\item 'errata'\n",
       "\\end{enumerate*}\n"
      ],
      "text/markdown": [
       "1. 'casa'\n",
       "2. 'trece'\n",
       "3. 'errata'\n",
       "\n",
       "\n"
      ],
      "text/plain": [
       "[1] \"casa\"   \"trece\"  \"errata\""
      ]
     },
     "metadata": {},
     "output_type": "display_data"
    }
   ],
   "source": [
    "words <- c(\"casa\", \"trece\", \"comida\", \"coco\", \"errata\")\n",
    "words[-grep(\"(.*[i|u|o].*)\", words)]"
   ]
  },
  {
   "cell_type": "markdown",
   "metadata": {},
   "source": [
    "#### Dados tres vectores dia, mes y anno crea un vector con las fechas completas. Si la fecha es inválida, ésta se descartará (hint: investiga la función as.Date)."
   ]
  },
  {
   "cell_type": "code",
   "execution_count": 10,
   "metadata": {},
   "outputs": [
    {
     "data": {
      "text/html": [
       "<time datetime=\"2018-01-20\">2018-01-20</time>"
      ],
      "text/latex": [
       "2018-01-20"
      ],
      "text/markdown": [
       "2018-01-20"
      ],
      "text/plain": [
       "[1] \"2018-01-20\""
      ]
     },
     "metadata": {},
     "output_type": "display_data"
    }
   ],
   "source": [
    "dia <- c(\"20\", \"20\")\n",
    "mes <- c(\"01\", \"01\")\n",
    "anno <- c(\"2018\", \"-1\")\n",
    "dates <- as.Date(paste(anno, mes, dia, sep=\"-\"), \"%Y-%m-%d\")\n",
    "dates[!is.na(dates)]"
   ]
  }
 ],
 "metadata": {
  "kernelspec": {
   "display_name": "R",
   "language": "R",
   "name": "ir"
  },
  "language_info": {
   "codemirror_mode": "r",
   "file_extension": ".r",
   "mimetype": "text/x-r-source",
   "name": "R",
   "pygments_lexer": "r",
   "version": "3.5.1"
  }
 },
 "nbformat": 4,
 "nbformat_minor": 2
}
